{
 "metadata": {
  "kernelspec": {
   "language": "python",
   "display_name": "Python 3",
   "name": "python3"
  },
  "language_info": {
   "name": "python",
   "version": "3.10.10",
   "mimetype": "text/x-python",
   "codemirror_mode": {
    "name": "ipython",
    "version": 3
   },
   "pygments_lexer": "ipython3",
   "nbconvert_exporter": "python",
   "file_extension": ".py"
  }
 },
 "nbformat_minor": 4,
 "nbformat": 4,
 "cells": [
  {
   "metadata": {},
   "cell_type": "markdown",
   "source": ""
  },
  {
   "metadata": {
    "ExecuteTime": {
     "end_time": "2025-04-03T17:33:16.206972Z",
     "start_time": "2025-04-03T17:33:16.203972Z"
    }
   },
   "cell_type": "code",
   "source": [
    "# Benchmark small CNN\n",
    "import os\n",
    "import re\n",
    "from gc import callbacks\n",
    "\n",
    "import numpy as np\n",
    "import pandas as pd\n",
    "import tensorflow as tf\n",
    "import keras\n",
    "import matplotlib.pyplot as plt\n",
    "import glob  # concise for finding files\n",
    "\n",
    "# --- Configuration ---\n",
    "SIZE = 500\n",
    "BATCH_SIZE = 32\n",
    "CHANNELS = 1\n",
    "INPUT_SHAPE = (SIZE, SIZE, CHANNELS)\n"
   ],
   "outputs": [],
   "execution_count": 33
  },
  {
   "metadata": {
    "ExecuteTime": {
     "end_time": "2025-04-03T17:33:16.214987Z",
     "start_time": "2025-04-03T17:33:16.209489Z"
    }
   },
   "cell_type": "code",
   "source": [
    "\n",
    "# --- Helper Functions ---\n",
    "\n",
    "def load_labels(csv_path):\n",
    "    df = pd.read_csv(csv_path, index_col='id')\n",
    "    # skip 'male' column\n",
    "\n",
    "    return df[['boneage']]\n",
    "\n",
    "\n",
    "def create_dataframe(image_dir, labels_df):\n",
    "    data = []\n",
    "    # Use glob for potentially simpler file finding if needed, but os.listdir is fine\n",
    "    # for filename in glob.glob(os.path.join(image_dir, '*.png')): # Example with glob\n",
    "    for filename in os.listdir(image_dir):\n",
    "        file_id = int(filename.split('.')[0])\n",
    "        if file_id in labels_df.index:\n",
    "            boneage = labels_df.loc[file_id, 'boneage']\n",
    "            full_path = os.path.join(image_dir, filename)\n",
    "            data.append({'file_path': full_path, 'boneage': boneage})\n",
    "    return pd.DataFrame(data)\n",
    "\n",
    "\n",
    "def preprocess_image(image, label):\n",
    "    image = tf.image.resize(image, [SIZE, SIZE])\n",
    "    image = tf.cast(image, tf.float32) / 255.0\n",
    "    return image, label  # labels are already structured\n",
    "\n",
    "\n",
    "def image_label_generator(file_paths, boneage_labels):\n",
    "    for path, boneage in zip(file_paths, boneage_labels):\n",
    "        img_bytes = tf.io.read_file(path)\n",
    "        # Ensure decoding works even if image isn't strictly PNG format but decodable\n",
    "        image = tf.io.decode_image(img_bytes, channels=CHANNELS, expand_animations=False)\n",
    "        # Set shape explicitly if decode_image doesn't infer it fully, needed by resize\n",
    "        image.set_shape([None, None, CHANNELS])\n",
    "        yield image, boneage  # Yield only boneage\n",
    "\n",
    "\n",
    "def create_tf_dataset(dataframe, shuffle, repeat_flag, batch_size_local=BATCH_SIZE):\n",
    "    dataset = tf.data.Dataset.from_generator(\n",
    "        image_label_generator,\n",
    "        args=[dataframe['file_path'].values, dataframe['boneage'].values],\n",
    "        output_signature=(\n",
    "            # Explicitly allow None for height/width before resizing\n",
    "            tf.TensorSpec(shape=(None, None, CHANNELS), dtype=tf.uint8),\n",
    "            tf.TensorSpec(shape=(), dtype=tf.float32)))\n",
    "\n",
    "    dataset = dataset.map(preprocess_image, num_parallel_calls=tf.data.AUTOTUNE)\n",
    "\n",
    "    if shuffle:\n",
    "        # Use the length of the dataframe for buffer size for effective shuffling\n",
    "        dataset = dataset.shuffle(buffer_size=len(dataframe), reshuffle_each_iteration=True)\n",
    "\n",
    "    if repeat_flag:\n",
    "        dataset = dataset.repeat()\n",
    "\n",
    "    dataset = dataset.batch(batch_size_local)\n",
    "    dataset = dataset.prefetch(tf.data.AUTOTUNE)\n",
    "\n",
    "    return dataset\n"
   ],
   "outputs": [],
   "execution_count": 34
  },
  {
   "metadata": {
    "ExecuteTime": {
     "end_time": "2025-04-03T17:33:16.402252Z",
     "start_time": "2025-04-03T17:33:16.225108Z"
    }
   },
   "cell_type": "code",
   "source": [
    "\n",
    "# --- Main Data Loading and Preprocessing ---\n",
    "\n",
    "# Correct the paths if they are relative to a specific working directory\n",
    "# Assuming the script runs from a directory containing Train/, Val/, Test/\n",
    "train_csv_path = os.path.join('Train', 'train_labels.csv')\n",
    "val_csv_path = os.path.join('Val', 'val_labels.csv')\n",
    "test_csv_path = os.path.join('Test', 'test_labels.csv')\n",
    "\n",
    "train_image_dir = os.path.join('Train', 'train_samples_pp')\n",
    "val_image_dir = os.path.join('Val', 'val_samples_pp')\n",
    "test_image_dir = os.path.join('Test', 'test_samples_pp')\n",
    "\n",
    "#Load Labels\n",
    "train_labels_df = load_labels(train_csv_path)\n",
    "val_labels_df = load_labels(val_csv_path)\n",
    "test_labels_df = load_labels(test_csv_path)\n",
    "\n",
    "# DataFrames linking images and labels\n",
    "training_dataframe = create_dataframe(train_image_dir, train_labels_df)\n",
    "validation_dataframe = create_dataframe(val_image_dir, val_labels_df)\n",
    "test_dataframe = create_dataframe(test_image_dir, test_labels_df)\n",
    "\n",
    "# tf datasets\n",
    "train_dataset = create_tf_dataset(training_dataframe, shuffle=True, repeat_flag=True)\n",
    "validation_dataset = create_tf_dataset(validation_dataframe, shuffle=False, repeat_flag=True)\n",
    "test_dataset_eval = create_tf_dataset(test_dataframe, shuffle=False, repeat_flag=False)\n"
   ],
   "outputs": [],
   "execution_count": 35
  },
  {
   "metadata": {
    "ExecuteTime": {
     "end_time": "2025-04-03T17:33:48.409113Z",
     "start_time": "2025-04-03T17:33:16.412626Z"
    }
   },
   "cell_type": "code",
   "source": [
    "#test\n",
    "for image_batch, label_batch in train_dataset.take(1):\n",
    "    print(\"Image batch shape:\", image_batch.shape)\n",
    "    print(\"Label batch shape:\", label_batch.shape)\n",
    "    print(\"Label batch example values:\", label_batch.numpy()[:5])  # Print first 5 labels"
   ],
   "outputs": [
    {
     "name": "stdout",
     "output_type": "stream",
     "text": [
      "Image batch shape: (32, 500, 500, 1)\n",
      "Label batch shape: (32,)\n",
      "Label batch example values: [ 94.  36. 108.  96. 144.]\n"
     ]
    }
   ],
   "execution_count": 36
  },
  {
   "metadata": {
    "ExecuteTime": {
     "end_time": "2025-04-03T17:33:48.633156Z",
     "start_time": "2025-04-03T17:33:48.422936Z"
    }
   },
   "cell_type": "code",
   "source": [
    "steps_per_epoch = max(1, len(training_dataframe) // BATCH_SIZE)\n",
    "validation_steps = max(1, len(validation_dataframe) // BATCH_SIZE)\n",
    "test_steps = max(1, len(test_dataframe) // BATCH_SIZE)\n",
    "\n",
    "model = tf.keras.Sequential([\n",
    "    tf.keras.layers.Input(shape=INPUT_SHAPE),\n",
    "\n",
    "    # --- Quickly Reduce Resolution ---\n",
    "    # Optional but recommended for speed: Add a pooling layer early\n",
    "    # You could also consider resizing images beforehand (e.g., to 256x256)\n",
    "    # which would be even more effective for speed.\n",
    "    tf.keras.layers.MaxPooling2D((2, 2)), # Output shape: (250, 250, 1) - Halves computation early\n",
    "\n",
    "    # --- Feature Extraction Block 1 ---\n",
    "    tf.keras.layers.Conv2D(32, (3, 3), padding='same', activation=None),\n",
    "    tf.keras.layers.BatchNormalization(),\n",
    "    tf.keras.layers.Activation('relu'),\n",
    "    # Removed second conv layer here for speed, can add back if needed\n",
    "    tf.keras.layers.MaxPooling2D((2, 2)), # Output shape: (125, 125, 32)\n",
    "\n",
    "    # --- Feature Extraction Block 2 ---\n",
    "    tf.keras.layers.Conv2D(64, (3, 3), padding='same', activation=None),\n",
    "    tf.keras.layers.BatchNormalization(),\n",
    "    tf.keras.layers.Activation('relu'),\n",
    "    tf.keras.layers.MaxPooling2D((2, 2)), # Output shape: (62, 62, 64) approx.\n",
    "\n",
    "    # --- Feature Extraction Block 3 ---\n",
    "    tf.keras.layers.Conv2D(128, (3, 3), padding='same', activation=None),\n",
    "    tf.keras.layers.BatchNormalization(),\n",
    "    tf.keras.layers.Activation('relu'),\n",
    "    tf.keras.layers.MaxPooling2D((2, 2)), # Output shape: (31, 31, 128) approx.\n",
    "\n",
    "    # --- Feature Extraction Block 4 ---\n",
    "    # Kept this block, but could be removed for further speedup if needed\n",
    "    tf.keras.layers.Conv2D(256, (3, 3), padding='same', activation=None),\n",
    "    tf.keras.layers.BatchNormalization(),\n",
    "    tf.keras.layers.Activation('relu'),\n",
    "    # No pooling here before GAP\n",
    "\n",
    "    # --- Transition to Dense Layers (More Efficient) ---\n",
    "    # Global Average Pooling reduces each feature map to a single value\n",
    "    tf.keras.layers.GlobalAveragePooling2D(), # Output shape: (256,) - MUCH smaller than Flatten\n",
    "\n",
    "    # --- Dense Head ---\n",
    "    # Fewer dense layers needed after GAP\n",
    "    tf.keras.layers.Dense(128, activation=None),\n",
    "    tf.keras.layers.BatchNormalization(),\n",
    "    tf.keras.layers.Activation('relu'),\n",
    "    tf.keras.layers.Dropout(0.4), # Adjusted dropout slightly\n",
    "\n",
    "    tf.keras.layers.Dense(1)  # Output layer for regression (bone age)\n",
    "])\n",
    "\n",
    "\n",
    "\n",
    "model.compile(optimizer=tf.keras.optimizers.Adam(learning_rate=4e-4),\n",
    "              loss='mse',\n",
    "              metrics=['mae']) # mae for age prediction\n",
    "\n",
    "model.summary()"
   ],
   "outputs": [
    {
     "data": {
      "text/plain": [
       "\u001B[1mModel: \"sequential_4\"\u001B[0m\n"
      ],
      "text/html": [
       "<pre style=\"white-space:pre;overflow-x:auto;line-height:normal;font-family:Menlo,'DejaVu Sans Mono',consolas,'Courier New',monospace\"><span style=\"font-weight: bold\">Model: \"sequential_4\"</span>\n",
       "</pre>\n"
      ]
     },
     "metadata": {},
     "output_type": "display_data"
    },
    {
     "data": {
      "text/plain": [
       "┏━━━━━━━━━━━━━━━━━━━━━━━━━━━━━━━━━┳━━━━━━━━━━━━━━━━━━━━━━━━┳━━━━━━━━━━━━━━━┓\n",
       "┃\u001B[1m \u001B[0m\u001B[1mLayer (type)                   \u001B[0m\u001B[1m \u001B[0m┃\u001B[1m \u001B[0m\u001B[1mOutput Shape          \u001B[0m\u001B[1m \u001B[0m┃\u001B[1m \u001B[0m\u001B[1m      Param #\u001B[0m\u001B[1m \u001B[0m┃\n",
       "┡━━━━━━━━━━━━━━━━━━━━━━━━━━━━━━━━━╇━━━━━━━━━━━━━━━━━━━━━━━━╇━━━━━━━━━━━━━━━┩\n",
       "│ max_pooling2d_16 (\u001B[38;5;33mMaxPooling2D\u001B[0m) │ (\u001B[38;5;45mNone\u001B[0m, \u001B[38;5;34m250\u001B[0m, \u001B[38;5;34m250\u001B[0m, \u001B[38;5;34m1\u001B[0m)    │             \u001B[38;5;34m0\u001B[0m │\n",
       "├─────────────────────────────────┼────────────────────────┼───────────────┤\n",
       "│ conv2d_20 (\u001B[38;5;33mConv2D\u001B[0m)              │ (\u001B[38;5;45mNone\u001B[0m, \u001B[38;5;34m250\u001B[0m, \u001B[38;5;34m250\u001B[0m, \u001B[38;5;34m32\u001B[0m)   │           \u001B[38;5;34m320\u001B[0m │\n",
       "├─────────────────────────────────┼────────────────────────┼───────────────┤\n",
       "│ batch_normalization_25          │ (\u001B[38;5;45mNone\u001B[0m, \u001B[38;5;34m250\u001B[0m, \u001B[38;5;34m250\u001B[0m, \u001B[38;5;34m32\u001B[0m)   │           \u001B[38;5;34m128\u001B[0m │\n",
       "│ (\u001B[38;5;33mBatchNormalization\u001B[0m)            │                        │               │\n",
       "├─────────────────────────────────┼────────────────────────┼───────────────┤\n",
       "│ activation_25 (\u001B[38;5;33mActivation\u001B[0m)      │ (\u001B[38;5;45mNone\u001B[0m, \u001B[38;5;34m250\u001B[0m, \u001B[38;5;34m250\u001B[0m, \u001B[38;5;34m32\u001B[0m)   │             \u001B[38;5;34m0\u001B[0m │\n",
       "├─────────────────────────────────┼────────────────────────┼───────────────┤\n",
       "│ max_pooling2d_17 (\u001B[38;5;33mMaxPooling2D\u001B[0m) │ (\u001B[38;5;45mNone\u001B[0m, \u001B[38;5;34m125\u001B[0m, \u001B[38;5;34m125\u001B[0m, \u001B[38;5;34m32\u001B[0m)   │             \u001B[38;5;34m0\u001B[0m │\n",
       "├─────────────────────────────────┼────────────────────────┼───────────────┤\n",
       "│ conv2d_21 (\u001B[38;5;33mConv2D\u001B[0m)              │ (\u001B[38;5;45mNone\u001B[0m, \u001B[38;5;34m125\u001B[0m, \u001B[38;5;34m125\u001B[0m, \u001B[38;5;34m64\u001B[0m)   │        \u001B[38;5;34m18,496\u001B[0m │\n",
       "├─────────────────────────────────┼────────────────────────┼───────────────┤\n",
       "│ batch_normalization_26          │ (\u001B[38;5;45mNone\u001B[0m, \u001B[38;5;34m125\u001B[0m, \u001B[38;5;34m125\u001B[0m, \u001B[38;5;34m64\u001B[0m)   │           \u001B[38;5;34m256\u001B[0m │\n",
       "│ (\u001B[38;5;33mBatchNormalization\u001B[0m)            │                        │               │\n",
       "├─────────────────────────────────┼────────────────────────┼───────────────┤\n",
       "│ activation_26 (\u001B[38;5;33mActivation\u001B[0m)      │ (\u001B[38;5;45mNone\u001B[0m, \u001B[38;5;34m125\u001B[0m, \u001B[38;5;34m125\u001B[0m, \u001B[38;5;34m64\u001B[0m)   │             \u001B[38;5;34m0\u001B[0m │\n",
       "├─────────────────────────────────┼────────────────────────┼───────────────┤\n",
       "│ max_pooling2d_18 (\u001B[38;5;33mMaxPooling2D\u001B[0m) │ (\u001B[38;5;45mNone\u001B[0m, \u001B[38;5;34m62\u001B[0m, \u001B[38;5;34m62\u001B[0m, \u001B[38;5;34m64\u001B[0m)     │             \u001B[38;5;34m0\u001B[0m │\n",
       "├─────────────────────────────────┼────────────────────────┼───────────────┤\n",
       "│ conv2d_22 (\u001B[38;5;33mConv2D\u001B[0m)              │ (\u001B[38;5;45mNone\u001B[0m, \u001B[38;5;34m62\u001B[0m, \u001B[38;5;34m62\u001B[0m, \u001B[38;5;34m128\u001B[0m)    │        \u001B[38;5;34m73,856\u001B[0m │\n",
       "├─────────────────────────────────┼────────────────────────┼───────────────┤\n",
       "│ batch_normalization_27          │ (\u001B[38;5;45mNone\u001B[0m, \u001B[38;5;34m62\u001B[0m, \u001B[38;5;34m62\u001B[0m, \u001B[38;5;34m128\u001B[0m)    │           \u001B[38;5;34m512\u001B[0m │\n",
       "│ (\u001B[38;5;33mBatchNormalization\u001B[0m)            │                        │               │\n",
       "├─────────────────────────────────┼────────────────────────┼───────────────┤\n",
       "│ activation_27 (\u001B[38;5;33mActivation\u001B[0m)      │ (\u001B[38;5;45mNone\u001B[0m, \u001B[38;5;34m62\u001B[0m, \u001B[38;5;34m62\u001B[0m, \u001B[38;5;34m128\u001B[0m)    │             \u001B[38;5;34m0\u001B[0m │\n",
       "├─────────────────────────────────┼────────────────────────┼───────────────┤\n",
       "│ max_pooling2d_19 (\u001B[38;5;33mMaxPooling2D\u001B[0m) │ (\u001B[38;5;45mNone\u001B[0m, \u001B[38;5;34m31\u001B[0m, \u001B[38;5;34m31\u001B[0m, \u001B[38;5;34m128\u001B[0m)    │             \u001B[38;5;34m0\u001B[0m │\n",
       "├─────────────────────────────────┼────────────────────────┼───────────────┤\n",
       "│ conv2d_23 (\u001B[38;5;33mConv2D\u001B[0m)              │ (\u001B[38;5;45mNone\u001B[0m, \u001B[38;5;34m31\u001B[0m, \u001B[38;5;34m31\u001B[0m, \u001B[38;5;34m256\u001B[0m)    │       \u001B[38;5;34m295,168\u001B[0m │\n",
       "├─────────────────────────────────┼────────────────────────┼───────────────┤\n",
       "│ batch_normalization_28          │ (\u001B[38;5;45mNone\u001B[0m, \u001B[38;5;34m31\u001B[0m, \u001B[38;5;34m31\u001B[0m, \u001B[38;5;34m256\u001B[0m)    │         \u001B[38;5;34m1,024\u001B[0m │\n",
       "│ (\u001B[38;5;33mBatchNormalization\u001B[0m)            │                        │               │\n",
       "├─────────────────────────────────┼────────────────────────┼───────────────┤\n",
       "│ activation_28 (\u001B[38;5;33mActivation\u001B[0m)      │ (\u001B[38;5;45mNone\u001B[0m, \u001B[38;5;34m31\u001B[0m, \u001B[38;5;34m31\u001B[0m, \u001B[38;5;34m256\u001B[0m)    │             \u001B[38;5;34m0\u001B[0m │\n",
       "├─────────────────────────────────┼────────────────────────┼───────────────┤\n",
       "│ global_average_pooling2d_3      │ (\u001B[38;5;45mNone\u001B[0m, \u001B[38;5;34m256\u001B[0m)            │             \u001B[38;5;34m0\u001B[0m │\n",
       "│ (\u001B[38;5;33mGlobalAveragePooling2D\u001B[0m)        │                        │               │\n",
       "├─────────────────────────────────┼────────────────────────┼───────────────┤\n",
       "│ dense_9 (\u001B[38;5;33mDense\u001B[0m)                 │ (\u001B[38;5;45mNone\u001B[0m, \u001B[38;5;34m128\u001B[0m)            │        \u001B[38;5;34m32,896\u001B[0m │\n",
       "├─────────────────────────────────┼────────────────────────┼───────────────┤\n",
       "│ batch_normalization_29          │ (\u001B[38;5;45mNone\u001B[0m, \u001B[38;5;34m128\u001B[0m)            │           \u001B[38;5;34m512\u001B[0m │\n",
       "│ (\u001B[38;5;33mBatchNormalization\u001B[0m)            │                        │               │\n",
       "├─────────────────────────────────┼────────────────────────┼───────────────┤\n",
       "│ activation_29 (\u001B[38;5;33mActivation\u001B[0m)      │ (\u001B[38;5;45mNone\u001B[0m, \u001B[38;5;34m128\u001B[0m)            │             \u001B[38;5;34m0\u001B[0m │\n",
       "├─────────────────────────────────┼────────────────────────┼───────────────┤\n",
       "│ dropout_5 (\u001B[38;5;33mDropout\u001B[0m)             │ (\u001B[38;5;45mNone\u001B[0m, \u001B[38;5;34m128\u001B[0m)            │             \u001B[38;5;34m0\u001B[0m │\n",
       "├─────────────────────────────────┼────────────────────────┼───────────────┤\n",
       "│ dense_10 (\u001B[38;5;33mDense\u001B[0m)                │ (\u001B[38;5;45mNone\u001B[0m, \u001B[38;5;34m1\u001B[0m)              │           \u001B[38;5;34m129\u001B[0m │\n",
       "└─────────────────────────────────┴────────────────────────┴───────────────┘\n"
      ],
      "text/html": [
       "<pre style=\"white-space:pre;overflow-x:auto;line-height:normal;font-family:Menlo,'DejaVu Sans Mono',consolas,'Courier New',monospace\">┏━━━━━━━━━━━━━━━━━━━━━━━━━━━━━━━━━┳━━━━━━━━━━━━━━━━━━━━━━━━┳━━━━━━━━━━━━━━━┓\n",
       "┃<span style=\"font-weight: bold\"> Layer (type)                    </span>┃<span style=\"font-weight: bold\"> Output Shape           </span>┃<span style=\"font-weight: bold\">       Param # </span>┃\n",
       "┡━━━━━━━━━━━━━━━━━━━━━━━━━━━━━━━━━╇━━━━━━━━━━━━━━━━━━━━━━━━╇━━━━━━━━━━━━━━━┩\n",
       "│ max_pooling2d_16 (<span style=\"color: #0087ff; text-decoration-color: #0087ff\">MaxPooling2D</span>) │ (<span style=\"color: #00d7ff; text-decoration-color: #00d7ff\">None</span>, <span style=\"color: #00af00; text-decoration-color: #00af00\">250</span>, <span style=\"color: #00af00; text-decoration-color: #00af00\">250</span>, <span style=\"color: #00af00; text-decoration-color: #00af00\">1</span>)    │             <span style=\"color: #00af00; text-decoration-color: #00af00\">0</span> │\n",
       "├─────────────────────────────────┼────────────────────────┼───────────────┤\n",
       "│ conv2d_20 (<span style=\"color: #0087ff; text-decoration-color: #0087ff\">Conv2D</span>)              │ (<span style=\"color: #00d7ff; text-decoration-color: #00d7ff\">None</span>, <span style=\"color: #00af00; text-decoration-color: #00af00\">250</span>, <span style=\"color: #00af00; text-decoration-color: #00af00\">250</span>, <span style=\"color: #00af00; text-decoration-color: #00af00\">32</span>)   │           <span style=\"color: #00af00; text-decoration-color: #00af00\">320</span> │\n",
       "├─────────────────────────────────┼────────────────────────┼───────────────┤\n",
       "│ batch_normalization_25          │ (<span style=\"color: #00d7ff; text-decoration-color: #00d7ff\">None</span>, <span style=\"color: #00af00; text-decoration-color: #00af00\">250</span>, <span style=\"color: #00af00; text-decoration-color: #00af00\">250</span>, <span style=\"color: #00af00; text-decoration-color: #00af00\">32</span>)   │           <span style=\"color: #00af00; text-decoration-color: #00af00\">128</span> │\n",
       "│ (<span style=\"color: #0087ff; text-decoration-color: #0087ff\">BatchNormalization</span>)            │                        │               │\n",
       "├─────────────────────────────────┼────────────────────────┼───────────────┤\n",
       "│ activation_25 (<span style=\"color: #0087ff; text-decoration-color: #0087ff\">Activation</span>)      │ (<span style=\"color: #00d7ff; text-decoration-color: #00d7ff\">None</span>, <span style=\"color: #00af00; text-decoration-color: #00af00\">250</span>, <span style=\"color: #00af00; text-decoration-color: #00af00\">250</span>, <span style=\"color: #00af00; text-decoration-color: #00af00\">32</span>)   │             <span style=\"color: #00af00; text-decoration-color: #00af00\">0</span> │\n",
       "├─────────────────────────────────┼────────────────────────┼───────────────┤\n",
       "│ max_pooling2d_17 (<span style=\"color: #0087ff; text-decoration-color: #0087ff\">MaxPooling2D</span>) │ (<span style=\"color: #00d7ff; text-decoration-color: #00d7ff\">None</span>, <span style=\"color: #00af00; text-decoration-color: #00af00\">125</span>, <span style=\"color: #00af00; text-decoration-color: #00af00\">125</span>, <span style=\"color: #00af00; text-decoration-color: #00af00\">32</span>)   │             <span style=\"color: #00af00; text-decoration-color: #00af00\">0</span> │\n",
       "├─────────────────────────────────┼────────────────────────┼───────────────┤\n",
       "│ conv2d_21 (<span style=\"color: #0087ff; text-decoration-color: #0087ff\">Conv2D</span>)              │ (<span style=\"color: #00d7ff; text-decoration-color: #00d7ff\">None</span>, <span style=\"color: #00af00; text-decoration-color: #00af00\">125</span>, <span style=\"color: #00af00; text-decoration-color: #00af00\">125</span>, <span style=\"color: #00af00; text-decoration-color: #00af00\">64</span>)   │        <span style=\"color: #00af00; text-decoration-color: #00af00\">18,496</span> │\n",
       "├─────────────────────────────────┼────────────────────────┼───────────────┤\n",
       "│ batch_normalization_26          │ (<span style=\"color: #00d7ff; text-decoration-color: #00d7ff\">None</span>, <span style=\"color: #00af00; text-decoration-color: #00af00\">125</span>, <span style=\"color: #00af00; text-decoration-color: #00af00\">125</span>, <span style=\"color: #00af00; text-decoration-color: #00af00\">64</span>)   │           <span style=\"color: #00af00; text-decoration-color: #00af00\">256</span> │\n",
       "│ (<span style=\"color: #0087ff; text-decoration-color: #0087ff\">BatchNormalization</span>)            │                        │               │\n",
       "├─────────────────────────────────┼────────────────────────┼───────────────┤\n",
       "│ activation_26 (<span style=\"color: #0087ff; text-decoration-color: #0087ff\">Activation</span>)      │ (<span style=\"color: #00d7ff; text-decoration-color: #00d7ff\">None</span>, <span style=\"color: #00af00; text-decoration-color: #00af00\">125</span>, <span style=\"color: #00af00; text-decoration-color: #00af00\">125</span>, <span style=\"color: #00af00; text-decoration-color: #00af00\">64</span>)   │             <span style=\"color: #00af00; text-decoration-color: #00af00\">0</span> │\n",
       "├─────────────────────────────────┼────────────────────────┼───────────────┤\n",
       "│ max_pooling2d_18 (<span style=\"color: #0087ff; text-decoration-color: #0087ff\">MaxPooling2D</span>) │ (<span style=\"color: #00d7ff; text-decoration-color: #00d7ff\">None</span>, <span style=\"color: #00af00; text-decoration-color: #00af00\">62</span>, <span style=\"color: #00af00; text-decoration-color: #00af00\">62</span>, <span style=\"color: #00af00; text-decoration-color: #00af00\">64</span>)     │             <span style=\"color: #00af00; text-decoration-color: #00af00\">0</span> │\n",
       "├─────────────────────────────────┼────────────────────────┼───────────────┤\n",
       "│ conv2d_22 (<span style=\"color: #0087ff; text-decoration-color: #0087ff\">Conv2D</span>)              │ (<span style=\"color: #00d7ff; text-decoration-color: #00d7ff\">None</span>, <span style=\"color: #00af00; text-decoration-color: #00af00\">62</span>, <span style=\"color: #00af00; text-decoration-color: #00af00\">62</span>, <span style=\"color: #00af00; text-decoration-color: #00af00\">128</span>)    │        <span style=\"color: #00af00; text-decoration-color: #00af00\">73,856</span> │\n",
       "├─────────────────────────────────┼────────────────────────┼───────────────┤\n",
       "│ batch_normalization_27          │ (<span style=\"color: #00d7ff; text-decoration-color: #00d7ff\">None</span>, <span style=\"color: #00af00; text-decoration-color: #00af00\">62</span>, <span style=\"color: #00af00; text-decoration-color: #00af00\">62</span>, <span style=\"color: #00af00; text-decoration-color: #00af00\">128</span>)    │           <span style=\"color: #00af00; text-decoration-color: #00af00\">512</span> │\n",
       "│ (<span style=\"color: #0087ff; text-decoration-color: #0087ff\">BatchNormalization</span>)            │                        │               │\n",
       "├─────────────────────────────────┼────────────────────────┼───────────────┤\n",
       "│ activation_27 (<span style=\"color: #0087ff; text-decoration-color: #0087ff\">Activation</span>)      │ (<span style=\"color: #00d7ff; text-decoration-color: #00d7ff\">None</span>, <span style=\"color: #00af00; text-decoration-color: #00af00\">62</span>, <span style=\"color: #00af00; text-decoration-color: #00af00\">62</span>, <span style=\"color: #00af00; text-decoration-color: #00af00\">128</span>)    │             <span style=\"color: #00af00; text-decoration-color: #00af00\">0</span> │\n",
       "├─────────────────────────────────┼────────────────────────┼───────────────┤\n",
       "│ max_pooling2d_19 (<span style=\"color: #0087ff; text-decoration-color: #0087ff\">MaxPooling2D</span>) │ (<span style=\"color: #00d7ff; text-decoration-color: #00d7ff\">None</span>, <span style=\"color: #00af00; text-decoration-color: #00af00\">31</span>, <span style=\"color: #00af00; text-decoration-color: #00af00\">31</span>, <span style=\"color: #00af00; text-decoration-color: #00af00\">128</span>)    │             <span style=\"color: #00af00; text-decoration-color: #00af00\">0</span> │\n",
       "├─────────────────────────────────┼────────────────────────┼───────────────┤\n",
       "│ conv2d_23 (<span style=\"color: #0087ff; text-decoration-color: #0087ff\">Conv2D</span>)              │ (<span style=\"color: #00d7ff; text-decoration-color: #00d7ff\">None</span>, <span style=\"color: #00af00; text-decoration-color: #00af00\">31</span>, <span style=\"color: #00af00; text-decoration-color: #00af00\">31</span>, <span style=\"color: #00af00; text-decoration-color: #00af00\">256</span>)    │       <span style=\"color: #00af00; text-decoration-color: #00af00\">295,168</span> │\n",
       "├─────────────────────────────────┼────────────────────────┼───────────────┤\n",
       "│ batch_normalization_28          │ (<span style=\"color: #00d7ff; text-decoration-color: #00d7ff\">None</span>, <span style=\"color: #00af00; text-decoration-color: #00af00\">31</span>, <span style=\"color: #00af00; text-decoration-color: #00af00\">31</span>, <span style=\"color: #00af00; text-decoration-color: #00af00\">256</span>)    │         <span style=\"color: #00af00; text-decoration-color: #00af00\">1,024</span> │\n",
       "│ (<span style=\"color: #0087ff; text-decoration-color: #0087ff\">BatchNormalization</span>)            │                        │               │\n",
       "├─────────────────────────────────┼────────────────────────┼───────────────┤\n",
       "│ activation_28 (<span style=\"color: #0087ff; text-decoration-color: #0087ff\">Activation</span>)      │ (<span style=\"color: #00d7ff; text-decoration-color: #00d7ff\">None</span>, <span style=\"color: #00af00; text-decoration-color: #00af00\">31</span>, <span style=\"color: #00af00; text-decoration-color: #00af00\">31</span>, <span style=\"color: #00af00; text-decoration-color: #00af00\">256</span>)    │             <span style=\"color: #00af00; text-decoration-color: #00af00\">0</span> │\n",
       "├─────────────────────────────────┼────────────────────────┼───────────────┤\n",
       "│ global_average_pooling2d_3      │ (<span style=\"color: #00d7ff; text-decoration-color: #00d7ff\">None</span>, <span style=\"color: #00af00; text-decoration-color: #00af00\">256</span>)            │             <span style=\"color: #00af00; text-decoration-color: #00af00\">0</span> │\n",
       "│ (<span style=\"color: #0087ff; text-decoration-color: #0087ff\">GlobalAveragePooling2D</span>)        │                        │               │\n",
       "├─────────────────────────────────┼────────────────────────┼───────────────┤\n",
       "│ dense_9 (<span style=\"color: #0087ff; text-decoration-color: #0087ff\">Dense</span>)                 │ (<span style=\"color: #00d7ff; text-decoration-color: #00d7ff\">None</span>, <span style=\"color: #00af00; text-decoration-color: #00af00\">128</span>)            │        <span style=\"color: #00af00; text-decoration-color: #00af00\">32,896</span> │\n",
       "├─────────────────────────────────┼────────────────────────┼───────────────┤\n",
       "│ batch_normalization_29          │ (<span style=\"color: #00d7ff; text-decoration-color: #00d7ff\">None</span>, <span style=\"color: #00af00; text-decoration-color: #00af00\">128</span>)            │           <span style=\"color: #00af00; text-decoration-color: #00af00\">512</span> │\n",
       "│ (<span style=\"color: #0087ff; text-decoration-color: #0087ff\">BatchNormalization</span>)            │                        │               │\n",
       "├─────────────────────────────────┼────────────────────────┼───────────────┤\n",
       "│ activation_29 (<span style=\"color: #0087ff; text-decoration-color: #0087ff\">Activation</span>)      │ (<span style=\"color: #00d7ff; text-decoration-color: #00d7ff\">None</span>, <span style=\"color: #00af00; text-decoration-color: #00af00\">128</span>)            │             <span style=\"color: #00af00; text-decoration-color: #00af00\">0</span> │\n",
       "├─────────────────────────────────┼────────────────────────┼───────────────┤\n",
       "│ dropout_5 (<span style=\"color: #0087ff; text-decoration-color: #0087ff\">Dropout</span>)             │ (<span style=\"color: #00d7ff; text-decoration-color: #00d7ff\">None</span>, <span style=\"color: #00af00; text-decoration-color: #00af00\">128</span>)            │             <span style=\"color: #00af00; text-decoration-color: #00af00\">0</span> │\n",
       "├─────────────────────────────────┼────────────────────────┼───────────────┤\n",
       "│ dense_10 (<span style=\"color: #0087ff; text-decoration-color: #0087ff\">Dense</span>)                │ (<span style=\"color: #00d7ff; text-decoration-color: #00d7ff\">None</span>, <span style=\"color: #00af00; text-decoration-color: #00af00\">1</span>)              │           <span style=\"color: #00af00; text-decoration-color: #00af00\">129</span> │\n",
       "└─────────────────────────────────┴────────────────────────┴───────────────┘\n",
       "</pre>\n"
      ]
     },
     "metadata": {},
     "output_type": "display_data"
    },
    {
     "data": {
      "text/plain": [
       "\u001B[1m Total params: \u001B[0m\u001B[38;5;34m423,297\u001B[0m (1.61 MB)\n"
      ],
      "text/html": [
       "<pre style=\"white-space:pre;overflow-x:auto;line-height:normal;font-family:Menlo,'DejaVu Sans Mono',consolas,'Courier New',monospace\"><span style=\"font-weight: bold\"> Total params: </span><span style=\"color: #00af00; text-decoration-color: #00af00\">423,297</span> (1.61 MB)\n",
       "</pre>\n"
      ]
     },
     "metadata": {},
     "output_type": "display_data"
    },
    {
     "data": {
      "text/plain": [
       "\u001B[1m Trainable params: \u001B[0m\u001B[38;5;34m422,081\u001B[0m (1.61 MB)\n"
      ],
      "text/html": [
       "<pre style=\"white-space:pre;overflow-x:auto;line-height:normal;font-family:Menlo,'DejaVu Sans Mono',consolas,'Courier New',monospace\"><span style=\"font-weight: bold\"> Trainable params: </span><span style=\"color: #00af00; text-decoration-color: #00af00\">422,081</span> (1.61 MB)\n",
       "</pre>\n"
      ]
     },
     "metadata": {},
     "output_type": "display_data"
    },
    {
     "data": {
      "text/plain": [
       "\u001B[1m Non-trainable params: \u001B[0m\u001B[38;5;34m1,216\u001B[0m (4.75 KB)\n"
      ],
      "text/html": [
       "<pre style=\"white-space:pre;overflow-x:auto;line-height:normal;font-family:Menlo,'DejaVu Sans Mono',consolas,'Courier New',monospace\"><span style=\"font-weight: bold\"> Non-trainable params: </span><span style=\"color: #00af00; text-decoration-color: #00af00\">1,216</span> (4.75 KB)\n",
       "</pre>\n"
      ]
     },
     "metadata": {},
     "output_type": "display_data"
    }
   ],
   "execution_count": 37
  },
  {
   "metadata": {
    "ExecuteTime": {
     "end_time": "2025-04-03T17:33:48.664670Z",
     "start_time": "2025-04-03T17:33:48.659802Z"
    }
   },
   "cell_type": "code",
   "source": [
    "early_stopping_callback = tf.keras.callbacks.EarlyStopping(\n",
    "    monitor='val_loss',\n",
    "    patience=4,\n",
    "    mode='min',\n",
    "    verbose=1,\n",
    "    restore_best_weights=True)\n",
    "\n",
    "reduce_lr_callback = tf.keras.callbacks.ReduceLROnPlateau(\n",
    "    monitor='val_loss',\n",
    "    factor=0.2, patience=2, mode='min', verbose=1)\n"
   ],
   "outputs": [],
   "execution_count": 38
  },
  {
   "metadata": {
    "ExecuteTime": {
     "end_time": "2025-04-03T19:41:27.801654Z",
     "start_time": "2025-04-03T17:33:48.688461Z"
    }
   },
   "cell_type": "code",
   "source": [
    "history = model.fit(\n",
    "    train_dataset,\n",
    "    epochs=35,\n",
    "    steps_per_epoch=steps_per_epoch,\n",
    "    validation_data=validation_dataset,\n",
    "    validation_steps=validation_steps,\n",
    "    callbacks=[early_stopping_callback, reduce_lr_callback])"
   ],
   "outputs": [
    {
     "name": "stdout",
     "output_type": "stream",
     "text": [
      "Epoch 1/35\n",
      "\u001B[1m376/376\u001B[0m \u001B[32m━━━━━━━━━━━━━━━━━━━━\u001B[0m\u001B[37m\u001B[0m \u001B[1m421s\u001B[0m 1s/step - loss: 17248.0664 - mae: 124.7644 - val_loss: 15608.2529 - val_mae: 117.6756 - learning_rate: 4.0000e-04\n",
      "Epoch 2/35\n",
      "\u001B[1m376/376\u001B[0m \u001B[32m━━━━━━━━━━━━━━━━━━━━\u001B[0m\u001B[37m\u001B[0m \u001B[1m376s\u001B[0m 1000ms/step - loss: 13997.7949 - mae: 111.6358 - val_loss: 11705.1562 - val_mae: 101.1685 - learning_rate: 4.0000e-04\n",
      "Epoch 3/35\n",
      "\u001B[1m376/376\u001B[0m \u001B[32m━━━━━━━━━━━━━━━━━━━━\u001B[0m\u001B[37m\u001B[0m \u001B[1m377s\u001B[0m 1s/step - loss: 9638.1719 - mae: 91.0943 - val_loss: 11287.1299 - val_mae: 98.7268 - learning_rate: 4.0000e-04\n",
      "Epoch 4/35\n",
      "\u001B[1m376/376\u001B[0m \u001B[32m━━━━━━━━━━━━━━━━━━━━\u001B[0m\u001B[37m\u001B[0m \u001B[1m377s\u001B[0m 1s/step - loss: 5216.2988 - mae: 65.1494 - val_loss: 2713.3137 - val_mae: 43.8035 - learning_rate: 4.0000e-04\n",
      "Epoch 5/35\n",
      "\u001B[1m376/376\u001B[0m \u001B[32m━━━━━━━━━━━━━━━━━━━━\u001B[0m\u001B[37m\u001B[0m \u001B[1m381s\u001B[0m 1s/step - loss: 2393.4004 - mae: 41.4931 - val_loss: 1575.8700 - val_mae: 32.7671 - learning_rate: 4.0000e-04\n",
      "Epoch 6/35\n",
      "\u001B[1m376/376\u001B[0m \u001B[32m━━━━━━━━━━━━━━━━━━━━\u001B[0m\u001B[37m\u001B[0m \u001B[1m383s\u001B[0m 1s/step - loss: 1203.4413 - mae: 28.0194 - val_loss: 1864.9963 - val_mae: 37.2048 - learning_rate: 4.0000e-04\n",
      "Epoch 7/35\n",
      "\u001B[1m376/376\u001B[0m \u001B[32m━━━━━━━━━━━━━━━━━━━━\u001B[0m\u001B[37m\u001B[0m \u001B[1m384s\u001B[0m 1s/step - loss: 912.8019 - mae: 23.8432 - val_loss: 634.2046 - val_mae: 19.6966 - learning_rate: 4.0000e-04\n",
      "Epoch 8/35\n",
      "\u001B[1m376/376\u001B[0m \u001B[32m━━━━━━━━━━━━━━━━━━━━\u001B[0m\u001B[37m\u001B[0m \u001B[1m384s\u001B[0m 1s/step - loss: 787.0167 - mae: 21.9969 - val_loss: 674.2344 - val_mae: 20.5266 - learning_rate: 4.0000e-04\n",
      "Epoch 9/35\n",
      "\u001B[1m376/376\u001B[0m \u001B[32m━━━━━━━━━━━━━━━━━━━━\u001B[0m\u001B[37m\u001B[0m \u001B[1m0s\u001B[0m 999ms/step - loss: 721.7430 - mae: 21.1253\n",
      "Epoch 9: ReduceLROnPlateau reducing learning rate to 7.999999797903001e-05.\n",
      "\u001B[1m376/376\u001B[0m \u001B[32m━━━━━━━━━━━━━━━━━━━━\u001B[0m\u001B[37m\u001B[0m \u001B[1m383s\u001B[0m 1s/step - loss: 721.7490 - mae: 21.1255 - val_loss: 797.3591 - val_mae: 22.7525 - learning_rate: 4.0000e-04\n",
      "Epoch 10/35\n",
      "\u001B[1m376/376\u001B[0m \u001B[32m━━━━━━━━━━━━━━━━━━━━\u001B[0m\u001B[37m\u001B[0m \u001B[1m384s\u001B[0m 1s/step - loss: 670.2042 - mae: 20.4677 - val_loss: 591.0013 - val_mae: 19.4832 - learning_rate: 8.0000e-05\n",
      "Epoch 11/35\n",
      "\u001B[1m376/376\u001B[0m \u001B[32m━━━━━━━━━━━━━━━━━━━━\u001B[0m\u001B[37m\u001B[0m \u001B[1m384s\u001B[0m 1s/step - loss: 623.5389 - mae: 19.7285 - val_loss: 651.7955 - val_mae: 20.7325 - learning_rate: 8.0000e-05\n",
      "Epoch 12/35\n",
      "\u001B[1m376/376\u001B[0m \u001B[32m━━━━━━━━━━━━━━━━━━━━\u001B[0m\u001B[37m\u001B[0m \u001B[1m384s\u001B[0m 1s/step - loss: 624.4095 - mae: 19.7047 - val_loss: 412.7117 - val_mae: 16.0633 - learning_rate: 8.0000e-05\n",
      "Epoch 13/35\n",
      "\u001B[1m376/376\u001B[0m \u001B[32m━━━━━━━━━━━━━━━━━━━━\u001B[0m\u001B[37m\u001B[0m \u001B[1m381s\u001B[0m 1s/step - loss: 599.4218 - mae: 19.3193 - val_loss: 467.9167 - val_mae: 17.3518 - learning_rate: 8.0000e-05\n",
      "Epoch 14/35\n",
      "\u001B[1m376/376\u001B[0m \u001B[32m━━━━━━━━━━━━━━━━━━━━\u001B[0m\u001B[37m\u001B[0m \u001B[1m0s\u001B[0m 981ms/step - loss: 589.3943 - mae: 19.2161\n",
      "Epoch 14: ReduceLROnPlateau reducing learning rate to 1.5999999595806004e-05.\n",
      "\u001B[1m376/376\u001B[0m \u001B[32m━━━━━━━━━━━━━━━━━━━━\u001B[0m\u001B[37m\u001B[0m \u001B[1m376s\u001B[0m 1s/step - loss: 589.4144 - mae: 19.2164 - val_loss: 807.5472 - val_mae: 23.2929 - learning_rate: 8.0000e-05\n",
      "Epoch 15/35\n",
      "\u001B[1m376/376\u001B[0m \u001B[32m━━━━━━━━━━━━━━━━━━━━\u001B[0m\u001B[37m\u001B[0m \u001B[1m376s\u001B[0m 999ms/step - loss: 558.3148 - mae: 18.8053 - val_loss: 392.6562 - val_mae: 15.6594 - learning_rate: 1.6000e-05\n",
      "Epoch 16/35\n",
      "\u001B[1m376/376\u001B[0m \u001B[32m━━━━━━━━━━━━━━━━━━━━\u001B[0m\u001B[37m\u001B[0m \u001B[1m377s\u001B[0m 1s/step - loss: 560.0556 - mae: 18.7391 - val_loss: 378.7045 - val_mae: 15.3233 - learning_rate: 1.6000e-05\n",
      "Epoch 17/35\n",
      "\u001B[1m376/376\u001B[0m \u001B[32m━━━━━━━━━━━━━━━━━━━━\u001B[0m\u001B[37m\u001B[0m \u001B[1m381s\u001B[0m 1s/step - loss: 565.0228 - mae: 18.8869 - val_loss: 383.3112 - val_mae: 15.5149 - learning_rate: 1.6000e-05\n",
      "Epoch 18/35\n",
      "\u001B[1m376/376\u001B[0m \u001B[32m━━━━━━━━━━━━━━━━━━━━\u001B[0m\u001B[37m\u001B[0m \u001B[1m0s\u001B[0m 1s/step - loss: 564.1414 - mae: 18.6724\n",
      "Epoch 18: ReduceLROnPlateau reducing learning rate to 3.199999991920777e-06.\n",
      "\u001B[1m376/376\u001B[0m \u001B[32m━━━━━━━━━━━━━━━━━━━━\u001B[0m\u001B[37m\u001B[0m \u001B[1m386s\u001B[0m 1s/step - loss: 564.1346 - mae: 18.6724 - val_loss: 383.7914 - val_mae: 15.3977 - learning_rate: 1.6000e-05\n",
      "Epoch 19/35\n",
      "\u001B[1m376/376\u001B[0m \u001B[32m━━━━━━━━━━━━━━━━━━━━\u001B[0m\u001B[37m\u001B[0m \u001B[1m381s\u001B[0m 1s/step - loss: 552.4960 - mae: 18.5176 - val_loss: 389.4294 - val_mae: 15.6332 - learning_rate: 3.2000e-06\n",
      "Epoch 20/35\n",
      "\u001B[1m376/376\u001B[0m \u001B[32m━━━━━━━━━━━━━━━━━━━━\u001B[0m\u001B[37m\u001B[0m \u001B[1m0s\u001B[0m 1s/step - loss: 564.9362 - mae: 18.7555\n",
      "Epoch 20: ReduceLROnPlateau reducing learning rate to 6.400000074791024e-07.\n",
      "\u001B[1m376/376\u001B[0m \u001B[32m━━━━━━━━━━━━━━━━━━━━\u001B[0m\u001B[37m\u001B[0m \u001B[1m384s\u001B[0m 1s/step - loss: 564.9092 - mae: 18.7551 - val_loss: 407.6229 - val_mae: 16.0715 - learning_rate: 3.2000e-06\n",
      "Epoch 20: early stopping\n",
      "Restoring model weights from the end of the best epoch: 16.\n"
     ]
    }
   ],
   "execution_count": 39
  },
  {
   "metadata": {
    "ExecuteTime": {
     "end_time": "2025-04-03T19:41:29.203815Z",
     "start_time": "2025-04-03T19:41:28.088744Z"
    }
   },
   "cell_type": "code",
   "source": [
    "test_loss, test_mae = model.evaluate(test_dataset_eval, verbose=1)\n",
    "print(f'error: {test_mae:.2f} months')"
   ],
   "outputs": [
    {
     "name": "stdout",
     "output_type": "stream",
     "text": [
      "\u001B[1m5/5\u001B[0m \u001B[32m━━━━━━━━━━━━━━━━━━━━\u001B[0m\u001B[37m\u001B[0m \u001B[1m1s\u001B[0m 203ms/step - loss: 801.6509 - mae: 22.5130\n",
      "error: 22.35 months\n"
     ]
    },
    {
     "name": "stderr",
     "output_type": "stream",
     "text": [
      "C:\\Users\\alepa\\PycharmProjects\\pythonProject\\.venv\\Lib\\site-packages\\keras\\src\\trainers\\epoch_iterator.py:151: UserWarning: Your input ran out of data; interrupting training. Make sure that your dataset or generator can generate at least `steps_per_epoch * epochs` batches. You may need to use the `.repeat()` function when building your dataset.\n",
      "  self._interrupted_warning()\n"
     ]
    }
   ],
   "execution_count": 40
  },
  {
   "metadata": {
    "ExecuteTime": {
     "end_time": "2025-04-03T19:41:29.441395Z",
     "start_time": "2025-04-03T19:41:29.207821Z"
    }
   },
   "cell_type": "code",
   "source": [
    "plt.figure(figsize=(12, 5))\n",
    "\n",
    "plt.subplot(1, 2, 1)\n",
    "plt.plot(history.history['loss'], label='Tr loss')\n",
    "plt.plot(history.history['val_loss'], label='Val loss')\n",
    "plt.xlabel('Epoch')\n",
    "plt.ylabel('MSE (loss)')\n",
    "plt.legend()\n",
    "plt.grid(True)\n",
    "\n",
    "plt.subplot(1, 2, 2)\n",
    "plt.ylim(0, 150)\n",
    "plt.axhline(y=4, color='g', linestyle='--', label='Halabi19 model error')\n",
    "plt.axhline(y=test_mae, color='r', linestyle='--', label='Test MAE')\n",
    "plt.plot(history.history['mae'], label='Tr MAE')\n",
    "plt.plot(history.history['val_mae'], label='Val MAE')\n",
    "plt.xlabel('Epoch')\n",
    "plt.ylabel('MAE')\n",
    "plt.legend()\n",
    "plt.grid(True)\n",
    "\n",
    "plt.tight_layout()\n",
    "plt.show()\n"
   ],
   "outputs": [
    {
     "data": {
      "text/plain": [
       "<Figure size 1200x500 with 2 Axes>"
      ],
      "image/png": "[encoded data removed]"
     },
     "metadata": {},
     "output_type": "display_data"
    }
   ],
   "execution_count": 41
  },
  {
   "metadata": {
    "ExecuteTime": {
     "end_time": "2025-04-03T19:41:29.454570Z",
     "start_time": "2025-04-03T19:41:29.452829Z"
    }
   },
   "cell_type": "code",
   "source": "",
   "outputs": [],
   "execution_count": null
  }
 ]
}
