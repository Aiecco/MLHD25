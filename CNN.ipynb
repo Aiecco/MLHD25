{
 "cells": [
  {
   "metadata": {
    "ExecuteTime": {
     "end_time": "2025-03-15T01:12:12.635404Z",
     "start_time": "2025-03-15T01:12:06.266221Z"
    }
   },
   "cell_type": "code",
   "source": [
    "import tensorflow as tf\n",
    "from tensorflow import keras\n",
    "from tensorflow.keras import layers, Model\n",
    "import matplotlib.pyplot as plt\n",
    "import pandas as pd\n",
    "import os\n",
    "import time"
   ],
   "id": "47de294abdcdef04",
   "outputs": [],
   "execution_count": 1
  },
  {
   "metadata": {
    "ExecuteTime": {
     "end_time": "2025-03-15T01:12:12.640280Z",
     "start_time": "2025-03-15T01:12:12.636411Z"
    }
   },
   "cell_type": "code",
   "source": [
    "def load_dataset(image_dir, label_file):\n",
    "    df = pd.read_csv(label_file)\n",
    "    image_paths = [os.path.join(image_dir, f\"{img_id}.png\") for img_id in df['id']]\n",
    "    bone_ages = df['boneage'].values.astype('float32')\n",
    "    genders = df['male'].astype(int).values\n",
    "    return image_paths, bone_ages, genders\n",
    "\n",
    "def preprocess_image(image_path):\n",
    "    image = tf.io.read_file(image_path)\n",
    "    image = tf.image.decode_png(image, channels=1)\n",
    "    image = tf.image.convert_image_dtype(image, tf.float32)\n",
    "    image = tf.image.resize(image, (256, 256))  # Ensure consistent size\n",
    "    image = tf.cast(image, tf.float32) / 255.0\n",
    "    return image\n",
    "\n",
    "\n",
    "def create_tf_dataset(image_paths, labels, batch_size=128):\n",
    "    image_ds = tf.data.Dataset.from_tensor_slices(image_paths) \\\n",
    "        .map(preprocess_image, num_parallel_calls=tf.data.AUTOTUNE)\n",
    "    label_ds = tf.data.Dataset.from_tensor_slices(labels)\n",
    "    return tf.data.Dataset.zip((image_ds, label_ds)) \\\n",
    "        .batch(batch_size) \\\n",
    "        .prefetch(tf.data.AUTOTUNE)"
   ],
   "id": "1067c0890a0f42f4",
   "outputs": [],
   "execution_count": 2
  },
  {
   "metadata": {
    "ExecuteTime": {
     "end_time": "2025-03-15T01:12:12.677866Z",
     "start_time": "2025-03-15T01:12:12.640280Z"
    }
   },
   "cell_type": "code",
   "source": [
    "# Load paths and labels\n",
    "train_X, train_y_bone, train_y_gender = load_dataset(\"Train/train_samples_pp\", \"Train/train_labels.csv\")\n",
    "val_X, val_y_bone, val_y_gender = load_dataset(\"Val/val_samples_pp\", \"Val/val_labels.csv\")\n",
    "test_X, test_y_bone, test_y_gender = load_dataset(\"Test/test_samples_pp\", \"Test/test_labels.csv\")\n"
   ],
   "id": "454afd3011f6e479",
   "outputs": [],
   "execution_count": 3
  },
  {
   "metadata": {},
   "cell_type": "raw",
   "source": [
    "# we want to normalize the regression target, but still have MAE in months for interpretability\n",
    "\n",
    "mean_bone = train_y_bone.mean()\n",
    "std_bone = train_y_bone.std()\n",
    "\n",
    "class DenormalizedMAE(tf.keras.metrics.Metric):\n",
    "    def __init__(self, mean, std, name='Unnorm MAE', **kwargs):\n",
    "        super().__init__(name=name, **kwargs)\n",
    "        self.mae = tf.keras.metrics.MeanAbsoluteError()\n",
    "        self.mean = mean\n",
    "        self.std = std\n",
    "\n",
    "    def update_state(self, y_true, y_pred, sample_weight=None):\n",
    "        # Denormalize predictions and targets\n",
    "        y_true = (y_true * self.std) + self.mean\n",
    "        y_pred = (y_pred * self.std) + self.mean\n",
    "        self.mae.update_state(y_true, y_pred, sample_weight)\n",
    "\n",
    "    def result(self):\n",
    "        return self.mae.result()\n",
    "    \n",
    "    \n",
    "train_y_bone = (train_y_bone - train_y_bone.mean()) / train_y_bone.std()\n",
    "val_y_bone = (val_y_bone - val_y_bone.mean()) / val_y_bone.std()\n",
    "test_y_bone = (test_y_bone - test_y_bone.mean()) / test_y_bone.std()"
   ],
   "id": "85c446e012e81a84"
  },
  {
   "metadata": {},
   "cell_type": "markdown",
   "source": "## CNN only on bone age",
   "id": "8432812d5ca69fa5"
  },
  {
   "metadata": {
    "ExecuteTime": {
     "end_time": "2025-03-15T01:12:12.935967Z",
     "start_time": "2025-03-15T01:12:12.678872Z"
    }
   },
   "cell_type": "code",
   "source": [
    "def cnn_bone(input_shape=(256, 256, 1)):\n",
    "    input = tf.keras.Input(shape=input_shape)\n",
    "    \n",
    "    # Data augmentation\n",
    "    x = layers.RandomRotation(factor=0.1)(input)\n",
    "    x = layers.RandomTranslation(height_factor=0.05, width_factor=0.05)(x)\n",
    "    x = layers.RandomFlip(\"horizontal\")(x)\n",
    "        \n",
    "    x = layers.Conv2D(32, (3,3), activation='relu', padding='same')(x)\n",
    "    x = layers.MaxPooling2D((2,2))(x)\n",
    "    x = layers.Conv2D(64, (3,3), activation='relu', padding='same')(x)\n",
    "    x = layers.MaxPooling2D((2,2))(x)\n",
    "    x = layers.Conv2D(128, (3,3), activation='relu', padding='same')(x)\n",
    "    x = layers.MaxPooling2D((2,2))(x)\n",
    "    x = layers.Conv2D(256, (3,3), activation='relu', padding='same')(x)\n",
    "    x = layers.MaxPooling2D((2,2))(x)\n",
    "    \n",
    "    x = layers.Flatten()(x)\n",
    "    x = layers.Dense(512, activation='relu')(x)\n",
    "    x = layers.Dropout(0.3)(x)\n",
    "    x = layers.Dense(256, activation='relu')(x)\n",
    "    x = layers.Dropout(0.3)(x)\n",
    "    output = layers.Dense(1, activation='linear')(x)  # Bone age prediction\n",
    "    \n",
    "    model = Model(input, output)\n",
    "    return model\n",
    "\n",
    "model_bone = cnn_bone()\n",
    "model_bone.compile(\n",
    "    optimizer=tf.keras.optimizers.Adam(learning_rate=1e-6),\n",
    "    loss='mse',\n",
    "    metrics=['mae']) # DenormalizedMAE(mean_bone, std_bone)\n"
   ],
   "id": "341220f3362210df",
   "outputs": [],
   "execution_count": 4
  },
  {
   "metadata": {
    "ExecuteTime": {
     "end_time": "2025-03-15T01:12:12.939280Z",
     "start_time": "2025-03-15T01:12:12.935967Z"
    }
   },
   "cell_type": "code",
   "source": [
    "callbacks = [\n",
    "    \n",
    "    tf.keras.callbacks.EarlyStopping(\n",
    "        monitor='val_loss',\n",
    "        patience=5, \n",
    "        restore_best_weights=True),\n",
    "    \n",
    "    tf.keras.callbacks.ReduceLROnPlateau(\n",
    "        monitor='val_loss',\n",
    "        factor=0.8,  # aggressive reduction\n",
    "        patience=3,\n",
    "        verbose=1),\n",
    "    tf.keras.callbacks.TerminateOnNaN()]"
   ],
   "id": "bbdfa4d8548f8cf2",
   "outputs": [],
   "execution_count": 5
  },
  {
   "metadata": {
    "ExecuteTime": {
     "end_time": "2025-03-15T01:12:13.049272Z",
     "start_time": "2025-03-15T01:12:12.939280Z"
    }
   },
   "cell_type": "code",
   "source": [
    "# Create datasets\n",
    "batch_size = 128\n",
    "train_bone = create_tf_dataset(train_X, train_y_bone, batch_size)\n",
    "val_bone = create_tf_dataset(val_X, val_y_bone, batch_size)\n",
    "test_bone = create_tf_dataset(test_X, test_y_bone, batch_size)"
   ],
   "id": "22a0db426ab8b246",
   "outputs": [],
   "execution_count": 6
  },
  {
   "metadata": {
    "ExecuteTime": {
     "end_time": "2025-03-15T03:11:01.773985Z",
     "start_time": "2025-03-15T01:12:13.049272Z"
    }
   },
   "cell_type": "code",
   "source": [
    "start_time = time.time()\n",
    "history = model_bone.fit(\n",
    "    train_bone,\n",
    "    validation_data=val_bone,\n",
    "    epochs=50,\n",
    "    callbacks=callbacks)\n",
    "\n",
    "end_time = time.time()\n",
    "\n",
    "training_time = end_time - start_time\n",
    "print(f\"Training time: {training_time:.2f} seconds\")"
   ],
   "id": "a5ecd2db65692909",
   "outputs": [
    {
     "name": "stdout",
     "output_type": "stream",
     "text": [
      "Epoch 1/50\n",
      "\u001B[1m99/99\u001B[0m \u001B[32m━━━━━━━━━━━━━━━━━━━━\u001B[0m\u001B[37m\u001B[0m \u001B[1m217s\u001B[0m 2s/step - loss: 18093.1875 - mae: 127.0901 - val_loss: 17903.6992 - val_mae: 127.1385 - learning_rate: 1.0000e-06\n",
      "Epoch 2/50\n",
      "\u001B[1m99/99\u001B[0m \u001B[32m━━━━━━━━━━━━━━━━━━━━\u001B[0m\u001B[37m\u001B[0m \u001B[1m209s\u001B[0m 2s/step - loss: 18085.5723 - mae: 127.0602 - val_loss: 17881.0332 - val_mae: 127.0493 - learning_rate: 1.0000e-06\n",
      "Epoch 3/50\n",
      "\u001B[1m99/99\u001B[0m \u001B[32m━━━━━━━━━━━━━━━━━━━━\u001B[0m\u001B[37m\u001B[0m \u001B[1m209s\u001B[0m 2s/step - loss: 18056.5156 - mae: 126.9459 - val_loss: 17821.9785 - val_mae: 126.8166 - learning_rate: 1.0000e-06\n",
      "Epoch 4/50\n",
      "\u001B[1m99/99\u001B[0m \u001B[32m━━━━━━━━━━━━━━━━━━━━\u001B[0m\u001B[37m\u001B[0m \u001B[1m211s\u001B[0m 2s/step - loss: 17986.4375 - mae: 126.6699 - val_loss: 17699.4141 - val_mae: 126.3324 - learning_rate: 1.0000e-06\n",
      "Epoch 5/50\n",
      "\u001B[1m99/99\u001B[0m \u001B[32m━━━━━━━━━━━━━━━━━━━━\u001B[0m\u001B[37m\u001B[0m \u001B[1m209s\u001B[0m 2s/step - loss: 17844.7305 - mae: 126.1094 - val_loss: 17472.9551 - val_mae: 125.4328 - learning_rate: 1.0000e-06\n",
      "Epoch 6/50\n",
      "\u001B[1m99/99\u001B[0m \u001B[32m━━━━━━━━━━━━━━━━━━━━\u001B[0m\u001B[37m\u001B[0m \u001B[1m210s\u001B[0m 2s/step - loss: 17590.1445 - mae: 125.0977 - val_loss: 17087.9980 - val_mae: 123.8890 - learning_rate: 1.0000e-06\n",
      "Epoch 7/50\n",
      "\u001B[1m99/99\u001B[0m \u001B[32m━━━━━━━━━━━━━━━━━━━━\u001B[0m\u001B[37m\u001B[0m \u001B[1m209s\u001B[0m 2s/step - loss: 17162.5645 - mae: 123.3734 - val_loss: 16476.3691 - val_mae: 121.3986 - learning_rate: 1.0000e-06\n",
      "Epoch 8/50\n",
      "\u001B[1m99/99\u001B[0m \u001B[32m━━━━━━━━━━━━━━━━━━━━\u001B[0m\u001B[37m\u001B[0m \u001B[1m209s\u001B[0m 2s/step - loss: 16494.6738 - mae: 120.6347 - val_loss: 15565.3750 - val_mae: 117.5966 - learning_rate: 1.0000e-06\n",
      "Epoch 9/50\n",
      "\u001B[1m99/99\u001B[0m \u001B[32m━━━━━━━━━━━━━━━━━━━━\u001B[0m\u001B[37m\u001B[0m \u001B[1m209s\u001B[0m 2s/step - loss: 15502.2852 - mae: 116.4510 - val_loss: 14281.2852 - val_mae: 112.0250 - learning_rate: 1.0000e-06\n",
      "Epoch 10/50\n",
      "\u001B[1m99/99\u001B[0m \u001B[32m━━━━━━━━━━━━━━━━━━━━\u001B[0m\u001B[37m\u001B[0m \u001B[1m209s\u001B[0m 2s/step - loss: 14128.7441 - mae: 110.4448 - val_loss: 12587.8271 - val_mae: 104.3072 - learning_rate: 1.0000e-06\n",
      "Epoch 11/50\n",
      "\u001B[1m99/99\u001B[0m \u001B[32m━━━━━━━━━━━━━━━━━━━━\u001B[0m\u001B[37m\u001B[0m \u001B[1m208s\u001B[0m 2s/step - loss: 12346.6875 - mae: 102.2277 - val_loss: 10527.8721 - val_mae: 94.2656 - learning_rate: 1.0000e-06\n",
      "Epoch 12/50\n",
      "\u001B[1m99/99\u001B[0m \u001B[32m━━━━━━━━━━━━━━━━━━━━\u001B[0m\u001B[37m\u001B[0m \u001B[1m209s\u001B[0m 2s/step - loss: 10224.8828 - mae: 91.8252 - val_loss: 8242.7383 - val_mae: 82.0058 - learning_rate: 1.0000e-06\n",
      "Epoch 13/50\n",
      "\u001B[1m99/99\u001B[0m \u001B[32m━━━━━━━━━━━━━━━━━━━━\u001B[0m\u001B[37m\u001B[0m \u001B[1m210s\u001B[0m 2s/step - loss: 7951.9316 - mae: 79.6874 - val_loss: 6001.2725 - val_mae: 68.5229 - learning_rate: 1.0000e-06\n",
      "Epoch 14/50\n",
      "\u001B[1m99/99\u001B[0m \u001B[32m━━━━━━━━━━━━━━━━━━━━\u001B[0m\u001B[37m\u001B[0m \u001B[1m210s\u001B[0m 2s/step - loss: 5782.4009 - mae: 66.7981 - val_loss: 4107.5308 - val_mae: 55.5200 - learning_rate: 1.0000e-06\n",
      "Epoch 15/50\n",
      "\u001B[1m99/99\u001B[0m \u001B[32m━━━━━━━━━━━━━━━━━━━━\u001B[0m\u001B[37m\u001B[0m \u001B[1m210s\u001B[0m 2s/step - loss: 4032.2419 - mae: 55.0074 - val_loss: 2809.9861 - val_mae: 45.2706 - learning_rate: 1.0000e-06\n",
      "Epoch 16/50\n",
      "\u001B[1m99/99\u001B[0m \u001B[32m━━━━━━━━━━━━━━━━━━━━\u001B[0m\u001B[37m\u001B[0m \u001B[1m209s\u001B[0m 2s/step - loss: 2923.8164 - mae: 46.2920 - val_loss: 2121.5906 - val_mae: 39.1157 - learning_rate: 1.0000e-06\n",
      "Epoch 17/50\n",
      "\u001B[1m99/99\u001B[0m \u001B[32m━━━━━━━━━━━━━━━━━━━━\u001B[0m\u001B[37m\u001B[0m \u001B[1m209s\u001B[0m 2s/step - loss: 2355.1504 - mae: 41.1369 - val_loss: 1848.1858 - val_mae: 36.0942 - learning_rate: 1.0000e-06\n",
      "Epoch 18/50\n",
      "\u001B[1m99/99\u001B[0m \u001B[32m━━━━━━━━━━━━━━━━━━━━\u001B[0m\u001B[37m\u001B[0m \u001B[1m210s\u001B[0m 2s/step - loss: 2164.4856 - mae: 38.7294 - val_loss: 1768.8885 - val_mae: 34.8016 - learning_rate: 1.0000e-06\n",
      "Epoch 19/50\n",
      "\u001B[1m99/99\u001B[0m \u001B[32m━━━━━━━━━━━━━━━━━━━━\u001B[0m\u001B[37m\u001B[0m \u001B[1m209s\u001B[0m 2s/step - loss: 2105.9097 - mae: 37.7847 - val_loss: 1749.3275 - val_mae: 34.4053 - learning_rate: 1.0000e-06\n",
      "Epoch 20/50\n",
      "\u001B[1m99/99\u001B[0m \u001B[32m━━━━━━━━━━━━━━━━━━━━\u001B[0m\u001B[37m\u001B[0m \u001B[1m210s\u001B[0m 2s/step - loss: 2112.5510 - mae: 37.5460 - val_loss: 1744.9819 - val_mae: 34.2392 - learning_rate: 1.0000e-06\n",
      "Epoch 21/50\n",
      "\u001B[1m99/99\u001B[0m \u001B[32m━━━━━━━━━━━━━━━━━━━━\u001B[0m\u001B[37m\u001B[0m \u001B[1m209s\u001B[0m 2s/step - loss: 2088.9680 - mae: 37.2902 - val_loss: 1744.0758 - val_mae: 34.1885 - learning_rate: 1.0000e-06\n",
      "Epoch 22/50\n",
      "\u001B[1m99/99\u001B[0m \u001B[32m━━━━━━━━━━━━━━━━━━━━\u001B[0m\u001B[37m\u001B[0m \u001B[1m210s\u001B[0m 2s/step - loss: 2120.5054 - mae: 37.3725 - val_loss: 1743.8823 - val_mae: 34.1766 - learning_rate: 1.0000e-06\n",
      "Epoch 23/50\n",
      "\u001B[1m99/99\u001B[0m \u001B[32m━━━━━━━━━━━━━━━━━━━━\u001B[0m\u001B[37m\u001B[0m \u001B[1m209s\u001B[0m 2s/step - loss: 2089.6323 - mae: 37.1649 - val_loss: 1743.8503 - val_mae: 34.1749 - learning_rate: 1.0000e-06\n",
      "Epoch 24/50\n",
      "\u001B[1m99/99\u001B[0m \u001B[32m━━━━━━━━━━━━━━━━━━━━\u001B[0m\u001B[37m\u001B[0m \u001B[1m209s\u001B[0m 2s/step - loss: 2100.5010 - mae: 37.1685 - val_loss: 1743.8484 - val_mae: 34.1752 - learning_rate: 1.0000e-06\n",
      "Epoch 25/50\n",
      "\u001B[1m99/99\u001B[0m \u001B[32m━━━━━━━━━━━━━━━━━━━━\u001B[0m\u001B[37m\u001B[0m \u001B[1m210s\u001B[0m 2s/step - loss: 2111.9868 - mae: 37.5056 - val_loss: 1743.9362 - val_mae: 34.1816 - learning_rate: 1.0000e-06\n",
      "Epoch 26/50\n",
      "\u001B[1m99/99\u001B[0m \u001B[32m━━━━━━━━━━━━━━━━━━━━\u001B[0m\u001B[37m\u001B[0m \u001B[1m210s\u001B[0m 2s/step - loss: 2113.2170 - mae: 37.3271 - val_loss: 1743.8282 - val_mae: 34.1749 - learning_rate: 1.0000e-06\n",
      "Epoch 27/50\n",
      "\u001B[1m99/99\u001B[0m \u001B[32m━━━━━━━━━━━━━━━━━━━━\u001B[0m\u001B[37m\u001B[0m \u001B[1m210s\u001B[0m 2s/step - loss: 2106.3804 - mae: 37.3232 - val_loss: 1743.9756 - val_mae: 34.1851 - learning_rate: 1.0000e-06\n",
      "Epoch 28/50\n",
      "\u001B[1m99/99\u001B[0m \u001B[32m━━━━━━━━━━━━━━━━━━━━\u001B[0m\u001B[37m\u001B[0m \u001B[1m209s\u001B[0m 2s/step - loss: 2122.1135 - mae: 37.5027 - val_loss: 1743.8981 - val_mae: 34.1805 - learning_rate: 1.0000e-06\n",
      "Epoch 29/50\n",
      "\u001B[1m99/99\u001B[0m \u001B[32m━━━━━━━━━━━━━━━━━━━━\u001B[0m\u001B[37m\u001B[0m \u001B[1m209s\u001B[0m 2s/step - loss: 2101.4319 - mae: 37.1739 - val_loss: 1743.6558 - val_mae: 34.1644 - learning_rate: 1.0000e-06\n",
      "Epoch 30/50\n",
      "\u001B[1m99/99\u001B[0m \u001B[32m━━━━━━━━━━━━━━━━━━━━\u001B[0m\u001B[37m\u001B[0m \u001B[1m210s\u001B[0m 2s/step - loss: 2116.3894 - mae: 37.3535 - val_loss: 1743.7728 - val_mae: 34.1732 - learning_rate: 1.0000e-06\n",
      "Epoch 31/50\n",
      "\u001B[1m99/99\u001B[0m \u001B[32m━━━━━━━━━━━━━━━━━━━━\u001B[0m\u001B[37m\u001B[0m \u001B[1m210s\u001B[0m 2s/step - loss: 2074.0649 - mae: 36.9757 - val_loss: 1743.9852 - val_mae: 34.1876 - learning_rate: 1.0000e-06\n",
      "Epoch 32/50\n",
      "\u001B[1m99/99\u001B[0m \u001B[32m━━━━━━━━━━━━━━━━━━━━\u001B[0m\u001B[37m\u001B[0m \u001B[1m0s\u001B[0m 2s/step - loss: 2114.7126 - mae: 37.2793\n",
      "Epoch 32: ReduceLROnPlateau reducing learning rate to 7.999999979801942e-07.\n",
      "\u001B[1m99/99\u001B[0m \u001B[32m━━━━━━━━━━━━━━━━━━━━\u001B[0m\u001B[37m\u001B[0m \u001B[1m210s\u001B[0m 2s/step - loss: 2112.1199 - mae: 37.2568 - val_loss: 1744.3761 - val_mae: 34.2116 - learning_rate: 1.0000e-06\n",
      "Epoch 33/50\n",
      "\u001B[1m99/99\u001B[0m \u001B[32m━━━━━━━━━━━━━━━━━━━━\u001B[0m\u001B[37m\u001B[0m \u001B[1m209s\u001B[0m 2s/step - loss: 2102.8711 - mae: 37.2650 - val_loss: 1743.9702 - val_mae: 34.1875 - learning_rate: 8.0000e-07\n",
      "Epoch 34/50\n",
      "\u001B[1m99/99\u001B[0m \u001B[32m━━━━━━━━━━━━━━━━━━━━\u001B[0m\u001B[37m\u001B[0m \u001B[1m209s\u001B[0m 2s/step - loss: 2098.9807 - mae: 37.3384 - val_loss: 1744.0040 - val_mae: 34.1901 - learning_rate: 8.0000e-07\n",
      "Training time: 7128.72 seconds\n"
     ]
    }
   ],
   "execution_count": 7
  },
  {
   "metadata": {
    "ExecuteTime": {
     "end_time": "2025-03-15T03:11:02.575667Z",
     "start_time": "2025-03-15T03:11:01.774992Z"
    }
   },
   "cell_type": "code",
   "source": [
    "# Evaluate on test set\n",
    "test_loss, test_mae = model_bone.evaluate(test_bone)\n",
    "print(f\"Test error: {test_mae:.2f} months\")"
   ],
   "id": "34ebaba1200c7f1",
   "outputs": [
    {
     "name": "stdout",
     "output_type": "stream",
     "text": [
      "\u001B[1m2/2\u001B[0m \u001B[32m━━━━━━━━━━━━━━━━━━━━\u001B[0m\u001B[37m\u001B[0m \u001B[1m1s\u001B[0m 286ms/step - loss: 1884.8304 - mae: 35.9464\n",
      "Test MSE: 1890.71, Test MAE: 36.06 months\n"
     ]
    }
   ],
   "execution_count": 8
  },
  {
   "metadata": {
    "ExecuteTime": {
     "end_time": "2025-03-15T03:11:02.709777Z",
     "start_time": "2025-03-15T03:11:02.575667Z"
    }
   },
   "cell_type": "code",
   "source": [
    "# Plot training history\n",
    "plt.figure(figsize=(12, 5))\n",
    "plt.plot(history.history['loss'], label='Train Loss')\n",
    "plt.plot(history.history['val_loss'], label='Validation Loss')\n",
    "plt.xlabel('Epoch')\n",
    "plt.ylabel('MSE')\n",
    "plt.legend()"
   ],
   "id": "286aeac1138395e6",
   "outputs": [
    {
     "data": {
      "text/plain": [
       "<matplotlib.legend.Legend at 0x2f1adfd27e0>"
      ]
     },
     "execution_count": 9,
     "metadata": {},
     "output_type": "execute_result"
    },
    {
     "data": {
      "text/plain": [
       "<Figure size 1200x500 with 1 Axes>"
      ],
      "image/png": "[encoded data removed]"
     },
     "metadata": {},
     "output_type": "display_data"
    }
   ],
   "execution_count": 9
  },
  {
   "metadata": {},
   "cell_type": "markdown",
   "source": "## CNN only on gender",
   "id": "ff4156ad660cba07"
  }
 ],
 "metadata": {
  "kernelspec": {
   "display_name": "Python 3",
   "language": "python",
   "name": "python3"
  },
  "language_info": {
   "codemirror_mode": {
    "name": "ipython",
    "version": 2
   },
   "file_extension": ".py",
   "mimetype": "text/x-python",
   "name": "python",
   "nbconvert_exporter": "python",
   "pygments_lexer": "ipython2",
   "version": "2.7.6"
  }
 },
 "nbformat": 4,
 "nbformat_minor": 5
}
